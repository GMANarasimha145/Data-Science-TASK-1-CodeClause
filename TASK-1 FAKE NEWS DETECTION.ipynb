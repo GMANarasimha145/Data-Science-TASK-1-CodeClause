{
 "cells": [
  {
   "cell_type": "markdown",
   "id": "35b0b630",
   "metadata": {},
   "source": [
    "# STEP-1: IMPORTING REQUIRED LIBRARIES."
   ]
  },
  {
   "cell_type": "code",
   "execution_count": 78,
   "id": "f1acd266",
   "metadata": {},
   "outputs": [],
   "source": [
    "import pandas as pd\n",
    "import numpy as np\n",
    "import seaborn as sns\n",
    "import matplotlib.pyplot as plt\n",
    "import time\n",
    "from sklearn.model_selection import train_test_split\n",
    "from sklearn.metrics import accuracy_score\n",
    "from sklearn.metrics import classification_report\n",
    "from sklearn.tree import DecisionTreeClassifier\n",
    "from sklearn.feature_extraction.text import TfidfVectorizer\n",
    "from sklearn.linear_model import LogisticRegression\n",
    "import re\n",
    "import string"
   ]
  },
  {
   "cell_type": "markdown",
   "id": "640c4621",
   "metadata": {},
   "source": [
    "# STEP-2: LOADING THE DATASET."
   ]
  },
  {
   "cell_type": "code",
   "execution_count": 25,
   "id": "dd811b29",
   "metadata": {},
   "outputs": [
    {
     "name": "stdout",
     "output_type": "stream",
     "text": [
      "Fake-News Dataset: \n",
      "                                                title  \\\n",
      "0   Donald Trump Sends Out Embarrassing New Year’...   \n",
      "1   Drunk Bragging Trump Staffer Started Russian ...   \n",
      "2   Sheriff David Clarke Becomes An Internet Joke...   \n",
      "3   Trump Is So Obsessed He Even Has Obama’s Name...   \n",
      "4   Pope Francis Just Called Out Donald Trump Dur...   \n",
      "\n",
      "                                                text subject  \\\n",
      "0  Donald Trump just couldn t wish all Americans ...    News   \n",
      "1  House Intelligence Committee Chairman Devin Nu...    News   \n",
      "2  On Friday, it was revealed that former Milwauk...    News   \n",
      "3  On Christmas day, Donald Trump announced that ...    News   \n",
      "4  Pope Francis used his annual Christmas Day mes...    News   \n",
      "\n",
      "                date  \n",
      "0  December 31, 2017  \n",
      "1  December 31, 2017  \n",
      "2  December 30, 2017  \n",
      "3  December 29, 2017  \n",
      "4  December 25, 2017  \n",
      "True-News Dataset: \n",
      "                                                title  \\\n",
      "0  As U.S. budget fight looms, Republicans flip t...   \n",
      "1  U.S. military to accept transgender recruits o...   \n",
      "2  Senior U.S. Republican senator: 'Let Mr. Muell...   \n",
      "3  FBI Russia probe helped by Australian diplomat...   \n",
      "4  Trump wants Postal Service to charge 'much mor...   \n",
      "\n",
      "                                                text       subject  \\\n",
      "0  WASHINGTON (Reuters) - The head of a conservat...  politicsNews   \n",
      "1  WASHINGTON (Reuters) - Transgender people will...  politicsNews   \n",
      "2  WASHINGTON (Reuters) - The special counsel inv...  politicsNews   \n",
      "3  WASHINGTON (Reuters) - Trump campaign adviser ...  politicsNews   \n",
      "4  SEATTLE/WASHINGTON (Reuters) - President Donal...  politicsNews   \n",
      "\n",
      "                 date  \n",
      "0  December 31, 2017   \n",
      "1  December 29, 2017   \n",
      "2  December 31, 2017   \n",
      "3  December 30, 2017   \n",
      "4  December 29, 2017   \n"
     ]
    }
   ],
   "source": [
    "dt_fk = pd.read_csv(r\"C:\\Machine Learning Python\\Fake.csv\")\n",
    "dt_tr = pd.read_csv(r\"C:\\Machine Learning Python\\True.csv\")\n",
    "print(\"Fake-News Dataset: \\n\",dt_fk.head())\n",
    "print(\"True-News Dataset: \\n\",dt_tr.head())"
   ]
  },
  {
   "cell_type": "markdown",
   "id": "92b68e44",
   "metadata": {},
   "source": [
    "# STEP-3: ALLOCATING CLASS TO THE TARGET ATTRIBUTE."
   ]
  },
  {
   "cell_type": "code",
   "execution_count": 26,
   "id": "8eb973a4",
   "metadata": {},
   "outputs": [],
   "source": [
    "dt_fk[\"class\"]=0\n",
    "dt_tr[\"class\"]=1"
   ]
  },
  {
   "cell_type": "markdown",
   "id": "38be7768",
   "metadata": {},
   "source": [
    "# STEP-4: COLLECTING DATA FOR MANUAL TESTING."
   ]
  },
  {
   "cell_type": "code",
   "execution_count": 83,
   "id": "0fd23765",
   "metadata": {},
   "outputs": [
    {
     "name": "stderr",
     "output_type": "stream",
     "text": [
      "C:\\Users\\HP\\AppData\\Local\\Temp\\ipykernel_18272\\616782553.py:3: SettingWithCopyWarning: \n",
      "A value is trying to be set on a copy of a slice from a DataFrame\n",
      "\n",
      "See the caveats in the documentation: https://pandas.pydata.org/pandas-docs/stable/user_guide/indexing.html#returning-a-view-versus-a-copy\n",
      "  dt_fk_testing.drop([i],axis=0,inplace=True)\n",
      "C:\\Users\\HP\\AppData\\Local\\Temp\\ipykernel_18272\\616782553.py:3: SettingWithCopyWarning: \n",
      "A value is trying to be set on a copy of a slice from a DataFrame\n",
      "\n",
      "See the caveats in the documentation: https://pandas.pydata.org/pandas-docs/stable/user_guide/indexing.html#returning-a-view-versus-a-copy\n",
      "  dt_fk_testing.drop([i],axis=0,inplace=True)\n",
      "C:\\Users\\HP\\AppData\\Local\\Temp\\ipykernel_18272\\616782553.py:3: SettingWithCopyWarning: \n",
      "A value is trying to be set on a copy of a slice from a DataFrame\n",
      "\n",
      "See the caveats in the documentation: https://pandas.pydata.org/pandas-docs/stable/user_guide/indexing.html#returning-a-view-versus-a-copy\n",
      "  dt_fk_testing.drop([i],axis=0,inplace=True)\n",
      "C:\\Users\\HP\\AppData\\Local\\Temp\\ipykernel_18272\\616782553.py:3: SettingWithCopyWarning: \n",
      "A value is trying to be set on a copy of a slice from a DataFrame\n",
      "\n",
      "See the caveats in the documentation: https://pandas.pydata.org/pandas-docs/stable/user_guide/indexing.html#returning-a-view-versus-a-copy\n",
      "  dt_fk_testing.drop([i],axis=0,inplace=True)\n",
      "C:\\Users\\HP\\AppData\\Local\\Temp\\ipykernel_18272\\616782553.py:3: SettingWithCopyWarning: \n",
      "A value is trying to be set on a copy of a slice from a DataFrame\n",
      "\n",
      "See the caveats in the documentation: https://pandas.pydata.org/pandas-docs/stable/user_guide/indexing.html#returning-a-view-versus-a-copy\n",
      "  dt_fk_testing.drop([i],axis=0,inplace=True)\n",
      "C:\\Users\\HP\\AppData\\Local\\Temp\\ipykernel_18272\\616782553.py:3: SettingWithCopyWarning: \n",
      "A value is trying to be set on a copy of a slice from a DataFrame\n",
      "\n",
      "See the caveats in the documentation: https://pandas.pydata.org/pandas-docs/stable/user_guide/indexing.html#returning-a-view-versus-a-copy\n",
      "  dt_fk_testing.drop([i],axis=0,inplace=True)\n",
      "C:\\Users\\HP\\AppData\\Local\\Temp\\ipykernel_18272\\616782553.py:3: SettingWithCopyWarning: \n",
      "A value is trying to be set on a copy of a slice from a DataFrame\n",
      "\n",
      "See the caveats in the documentation: https://pandas.pydata.org/pandas-docs/stable/user_guide/indexing.html#returning-a-view-versus-a-copy\n",
      "  dt_fk_testing.drop([i],axis=0,inplace=True)\n",
      "C:\\Users\\HP\\AppData\\Local\\Temp\\ipykernel_18272\\616782553.py:3: SettingWithCopyWarning: \n",
      "A value is trying to be set on a copy of a slice from a DataFrame\n",
      "\n",
      "See the caveats in the documentation: https://pandas.pydata.org/pandas-docs/stable/user_guide/indexing.html#returning-a-view-versus-a-copy\n",
      "  dt_fk_testing.drop([i],axis=0,inplace=True)\n",
      "C:\\Users\\HP\\AppData\\Local\\Temp\\ipykernel_18272\\616782553.py:3: SettingWithCopyWarning: \n",
      "A value is trying to be set on a copy of a slice from a DataFrame\n",
      "\n",
      "See the caveats in the documentation: https://pandas.pydata.org/pandas-docs/stable/user_guide/indexing.html#returning-a-view-versus-a-copy\n",
      "  dt_fk_testing.drop([i],axis=0,inplace=True)\n",
      "C:\\Users\\HP\\AppData\\Local\\Temp\\ipykernel_18272\\616782553.py:3: SettingWithCopyWarning: \n",
      "A value is trying to be set on a copy of a slice from a DataFrame\n",
      "\n",
      "See the caveats in the documentation: https://pandas.pydata.org/pandas-docs/stable/user_guide/indexing.html#returning-a-view-versus-a-copy\n",
      "  dt_fk_testing.drop([i],axis=0,inplace=True)\n",
      "C:\\Users\\HP\\AppData\\Local\\Temp\\ipykernel_18272\\616782553.py:7: SettingWithCopyWarning: \n",
      "A value is trying to be set on a copy of a slice from a DataFrame\n",
      "\n",
      "See the caveats in the documentation: https://pandas.pydata.org/pandas-docs/stable/user_guide/indexing.html#returning-a-view-versus-a-copy\n",
      "  dt_tr_testing.drop([i],axis=0,inplace=True)\n",
      "C:\\Users\\HP\\AppData\\Local\\Temp\\ipykernel_18272\\616782553.py:7: SettingWithCopyWarning: \n",
      "A value is trying to be set on a copy of a slice from a DataFrame\n",
      "\n",
      "See the caveats in the documentation: https://pandas.pydata.org/pandas-docs/stable/user_guide/indexing.html#returning-a-view-versus-a-copy\n",
      "  dt_tr_testing.drop([i],axis=0,inplace=True)\n",
      "C:\\Users\\HP\\AppData\\Local\\Temp\\ipykernel_18272\\616782553.py:7: SettingWithCopyWarning: \n",
      "A value is trying to be set on a copy of a slice from a DataFrame\n",
      "\n",
      "See the caveats in the documentation: https://pandas.pydata.org/pandas-docs/stable/user_guide/indexing.html#returning-a-view-versus-a-copy\n",
      "  dt_tr_testing.drop([i],axis=0,inplace=True)\n",
      "C:\\Users\\HP\\AppData\\Local\\Temp\\ipykernel_18272\\616782553.py:7: SettingWithCopyWarning: \n",
      "A value is trying to be set on a copy of a slice from a DataFrame\n",
      "\n",
      "See the caveats in the documentation: https://pandas.pydata.org/pandas-docs/stable/user_guide/indexing.html#returning-a-view-versus-a-copy\n",
      "  dt_tr_testing.drop([i],axis=0,inplace=True)\n",
      "C:\\Users\\HP\\AppData\\Local\\Temp\\ipykernel_18272\\616782553.py:7: SettingWithCopyWarning: \n",
      "A value is trying to be set on a copy of a slice from a DataFrame\n",
      "\n",
      "See the caveats in the documentation: https://pandas.pydata.org/pandas-docs/stable/user_guide/indexing.html#returning-a-view-versus-a-copy\n",
      "  dt_tr_testing.drop([i],axis=0,inplace=True)\n",
      "C:\\Users\\HP\\AppData\\Local\\Temp\\ipykernel_18272\\616782553.py:7: SettingWithCopyWarning: \n",
      "A value is trying to be set on a copy of a slice from a DataFrame\n",
      "\n",
      "See the caveats in the documentation: https://pandas.pydata.org/pandas-docs/stable/user_guide/indexing.html#returning-a-view-versus-a-copy\n",
      "  dt_tr_testing.drop([i],axis=0,inplace=True)\n",
      "C:\\Users\\HP\\AppData\\Local\\Temp\\ipykernel_18272\\616782553.py:7: SettingWithCopyWarning: \n",
      "A value is trying to be set on a copy of a slice from a DataFrame\n",
      "\n",
      "See the caveats in the documentation: https://pandas.pydata.org/pandas-docs/stable/user_guide/indexing.html#returning-a-view-versus-a-copy\n",
      "  dt_tr_testing.drop([i],axis=0,inplace=True)\n",
      "C:\\Users\\HP\\AppData\\Local\\Temp\\ipykernel_18272\\616782553.py:7: SettingWithCopyWarning: \n",
      "A value is trying to be set on a copy of a slice from a DataFrame\n",
      "\n",
      "See the caveats in the documentation: https://pandas.pydata.org/pandas-docs/stable/user_guide/indexing.html#returning-a-view-versus-a-copy\n",
      "  dt_tr_testing.drop([i],axis=0,inplace=True)\n",
      "C:\\Users\\HP\\AppData\\Local\\Temp\\ipykernel_18272\\616782553.py:7: SettingWithCopyWarning: \n",
      "A value is trying to be set on a copy of a slice from a DataFrame\n",
      "\n",
      "See the caveats in the documentation: https://pandas.pydata.org/pandas-docs/stable/user_guide/indexing.html#returning-a-view-versus-a-copy\n",
      "  dt_tr_testing.drop([i],axis=0,inplace=True)\n",
      "C:\\Users\\HP\\AppData\\Local\\Temp\\ipykernel_18272\\616782553.py:7: SettingWithCopyWarning: \n",
      "A value is trying to be set on a copy of a slice from a DataFrame\n",
      "\n",
      "See the caveats in the documentation: https://pandas.pydata.org/pandas-docs/stable/user_guide/indexing.html#returning-a-view-versus-a-copy\n",
      "  dt_tr_testing.drop([i],axis=0,inplace=True)\n"
     ]
    }
   ],
   "source": [
    "dt_fk_testing = dt_fk.tail(10)\n",
    "for i in range(23480,23470,-1):\n",
    "    dt_fk_testing.drop([i],axis=0,inplace=True)\n",
    "\n",
    "dt_tr_testing = dt_tr.tail(10)\n",
    "for i in range(21416,21406,-1):\n",
    "    dt_tr_testing.drop([i],axis=0,inplace=True)\n",
    "\n",
    "dt_fk_testing[\"class\"]=0\n",
    "dt_tr_testing[\"class\"]=1"
   ]
  },
  {
   "cell_type": "markdown",
   "id": "7f0d6ab2",
   "metadata": {},
   "source": [
    "# STEP-5: MERGING TRUE AND FALSE DATASETS."
   ]
  },
  {
   "cell_type": "code",
   "execution_count": 28,
   "id": "afdd5bc5",
   "metadata": {},
   "outputs": [
    {
     "name": "stdout",
     "output_type": "stream",
     "text": [
      "                                               title  \\\n",
      "0   Donald Trump Sends Out Embarrassing New Year’...   \n",
      "1   Drunk Bragging Trump Staffer Started Russian ...   \n",
      "2   Sheriff David Clarke Becomes An Internet Joke...   \n",
      "3   Trump Is So Obsessed He Even Has Obama’s Name...   \n",
      "4   Pope Francis Just Called Out Donald Trump Dur...   \n",
      "\n",
      "                                                text subject  \\\n",
      "0  Donald Trump just couldn t wish all Americans ...    News   \n",
      "1  House Intelligence Committee Chairman Devin Nu...    News   \n",
      "2  On Friday, it was revealed that former Milwauk...    News   \n",
      "3  On Christmas day, Donald Trump announced that ...    News   \n",
      "4  Pope Francis used his annual Christmas Day mes...    News   \n",
      "\n",
      "                date  class  \n",
      "0  December 31, 2017      0  \n",
      "1  December 31, 2017      0  \n",
      "2  December 30, 2017      0  \n",
      "3  December 29, 2017      0  \n",
      "4  December 25, 2017      0  \n"
     ]
    }
   ],
   "source": [
    "dt = pd.concat([dt_fk,dt_tr],axis=0)\n",
    "print(dt.head())"
   ]
  },
  {
   "cell_type": "markdown",
   "id": "55640be7",
   "metadata": {},
   "source": [
    "# STEP-6: DROPPING UNNECESSARY COLUMNS."
   ]
  },
  {
   "cell_type": "code",
   "execution_count": 29,
   "id": "38721c9e",
   "metadata": {},
   "outputs": [
    {
     "name": "stdout",
     "output_type": "stream",
     "text": [
      "                                                text  class\n",
      "0  Donald Trump just couldn t wish all Americans ...      0\n",
      "1  House Intelligence Committee Chairman Devin Nu...      0\n",
      "2  On Friday, it was revealed that former Milwauk...      0\n",
      "3  On Christmas day, Donald Trump announced that ...      0\n",
      "4  Pope Francis used his annual Christmas Day mes...      0\n",
      "                                                text  class\n",
      "0  Donald Trump just couldn t wish all Americans ...      0\n",
      "1  House Intelligence Committee Chairman Devin Nu...      0\n",
      "2  On Friday, it was revealed that former Milwauk...      0\n",
      "3  On Christmas day, Donald Trump announced that ...      0\n",
      "4  Pope Francis used his annual Christmas Day mes...      0\n",
      "44898\n"
     ]
    }
   ],
   "source": [
    "dt = dt.drop([\"title\",\"subject\",\"date\"],axis=1)\n",
    "print(dt.head())\n",
    "print(dt.head())\n",
    "print(len(dt))"
   ]
  },
  {
   "cell_type": "markdown",
   "id": "c7988a64",
   "metadata": {},
   "source": [
    "\n",
    "# STEP-7: DEFINING A FUNCTION TO FILTER TEXT."
   ]
  },
  {
   "cell_type": "code",
   "execution_count": 30,
   "id": "6482513a",
   "metadata": {},
   "outputs": [
    {
     "name": "stdout",
     "output_type": "stream",
     "text": [
      "Total processing time for all rows: 19.963550329208374 seconds\n",
      "                                                    text  class\n",
      "21412  brussels  reuters    nato allies on tuesday we...      1\n",
      "21413  london  reuters    lexisnexis  a provider of l...      1\n",
      "21414  minsk  reuters    in the shadow of disused sov...      1\n",
      "21415  moscow  reuters    vatican secretary of state ...      1\n",
      "21416  jakarta  reuters    indonesia will buy   sukho...      1\n"
     ]
    }
   ],
   "source": [
    "lt=[]\n",
    "def wordfilter(text):\n",
    "    text = text.lower()\n",
    "    text = re.sub(\"\\[.*?\\]\",' ',text)\n",
    "    text = re.sub(\"\\\\W\",' ',text)\n",
    "    text = re.sub(\"https?://\\S+|www\\.\\S+\",' ',text)\n",
    "    text = re.sub(r\"<.*?>+\",' ',text)\n",
    "    text = re.sub(\"[%s]\" %re.escape(string.punctuation),' ',text)\n",
    "    text = re.sub(\"\\n\",' ',text)\n",
    "    text = re.sub(\"\\w*\\d\\w\",' ',text)\n",
    "    return text\n",
    "\n",
    "start_time = time.time()\n",
    "dt[\"text\"] = dt[\"text\"].apply(wordfilter)\n",
    "end_time = time.time()\n",
    "processing_time = end_time - start_time\n",
    "print(f\"Total processing time for all rows: {processing_time} seconds\")\n",
    "print(dt.tail())"
   ]
  },
  {
   "cell_type": "markdown",
   "id": "5e74f4a7",
   "metadata": {},
   "source": [
    "# STEP-8: DIVIDING FEATURES INTO DEPENDENT AND INDEPENDENT."
   ]
  },
  {
   "cell_type": "code",
   "execution_count": 31,
   "id": "6967affa",
   "metadata": {},
   "outputs": [],
   "source": [
    "x = dt[\"text\"]\n",
    "y = dt[\"class\"]"
   ]
  },
  {
   "cell_type": "markdown",
   "id": "e61781f0",
   "metadata": {},
   "source": [
    "# STEP-9: SPLITTING DATA INTO TRAINING AND TESTING."
   ]
  },
  {
   "cell_type": "code",
   "execution_count": 32,
   "id": "ee0b01a4",
   "metadata": {},
   "outputs": [],
   "source": [
    "x_train,x_test,y_train,y_test = train_test_split(x,y,test_size=0.25)"
   ]
  },
  {
   "cell_type": "markdown",
   "id": "09584457",
   "metadata": {},
   "source": [
    "# STEP-10: VECTORIZATION."
   ]
  },
  {
   "cell_type": "code",
   "execution_count": 33,
   "id": "0bacca67",
   "metadata": {},
   "outputs": [],
   "source": [
    "vect = TfidfVectorizer()\n",
    "xvct_train = vect.fit_transform(x_train)\n",
    "xvct_test = vect.transform(x_test)"
   ]
  },
  {
   "cell_type": "markdown",
   "id": "d9799d35",
   "metadata": {},
   "source": [
    "# STEP-11: CREATING LOGISTIC REGRESSION MODEL"
   ]
  },
  {
   "cell_type": "code",
   "execution_count": 34,
   "id": "f1445cf7",
   "metadata": {},
   "outputs": [
    {
     "name": "stdout",
     "output_type": "stream",
     "text": [
      "Accuracy Score:  98.64587973273942\n",
      "              precision    recall  f1-score   support\n",
      "\n",
      "           0       0.99      0.98      0.99      5886\n",
      "           1       0.98      0.99      0.99      5339\n",
      "\n",
      "    accuracy                           0.99     11225\n",
      "   macro avg       0.99      0.99      0.99     11225\n",
      "weighted avg       0.99      0.99      0.99     11225\n",
      "\n"
     ]
    }
   ],
   "source": [
    "lr = LogisticRegression()\n",
    "lr.fit(xvct_train,y_train)\n",
    "\n",
    "#prediction\n",
    "y_pred = lr.predict(xvct_test)\n",
    "\n",
    "#accuracy score\n",
    "accr = accuracy_score(y_test,y_pred)\n",
    "print(\"Accuracy Score: \",accr*100)\n",
    "\n",
    "#classification report\n",
    "print(classification_report(y_test,y_pred))"
   ]
  },
  {
   "cell_type": "markdown",
   "id": "c9687298",
   "metadata": {},
   "source": [
    "# STEP-12: CREATING DECISION TREE CLASSIFIER MODEL"
   ]
  },
  {
   "cell_type": "code",
   "execution_count": 35,
   "id": "914d91ff",
   "metadata": {},
   "outputs": [
    {
     "name": "stdout",
     "output_type": "stream",
     "text": [
      "Accuracy Score:  99.59020044543429\n",
      "              precision    recall  f1-score   support\n",
      "\n",
      "           0       1.00      1.00      1.00      5886\n",
      "           1       1.00      0.99      1.00      5339\n",
      "\n",
      "    accuracy                           1.00     11225\n",
      "   macro avg       1.00      1.00      1.00     11225\n",
      "weighted avg       1.00      1.00      1.00     11225\n",
      "\n"
     ]
    }
   ],
   "source": [
    "dct = DecisionTreeClassifier()\n",
    "dct.fit(xvct_train,y_train)\n",
    "\n",
    "#prediction\n",
    "y_pred = dct.predict(xvct_test)\n",
    "\n",
    "#accuracy score\n",
    "accr = accuracy_score(y_test,y_pred)\n",
    "print(\"Accuracy Score: \",accr*100)\n",
    "\n",
    "#classification report\n",
    "print(classification_report(y_test,y_pred))"
   ]
  },
  {
   "cell_type": "code",
   "execution_count": 36,
   "id": "1a098774",
   "metadata": {},
   "outputs": [],
   "source": [
    "def display_output(flag):\n",
    "    if flag==0:\n",
    "        return \"FAKE NEWS\"\n",
    "    else:\n",
    "        return \"TRUE NEWS\"\n",
    "    \n",
    "def testing(news):\n",
    "    testing_news = {\"text\":[news]}\n",
    "    new_def_test = pd.DataFrame(testing_news)\n",
    "    new_def_test[\"text\"] =  new_def_test[\"text\"].apply(wordfilter)\n",
    "    new_x_test = new_def_test[\"text\"]\n",
    "    new_xv_test = vect.transform(new_x_test)\n",
    "    pred_lr = lr.predict(new_xv_test)\n",
    "    pred_dct = dct.predict(new_xv_test)\n",
    "    one = display_output(pred_lr)\n",
    "    two = display_output(pred_dct)\n",
    "    print(\"RESULT: \",one)\n",
    "    print(\"RESULT: \",two)\n",
    "    if one==\"TRUE NEWS\" and two==\"TRUE NEWS\":\n",
    "        return 1\n",
    "    else:\n",
    "        return 0\n",
    "\n",
    "#news = input()\n",
    "#main_flag = testing(news)\n",
    "#print(main_flag)"
   ]
  },
  {
   "cell_type": "markdown",
   "id": "09b506e2",
   "metadata": {},
   "source": [
    "# CREATING GUI FOR FAKE NEWS DETECTION\n",
    "# TO DETECT, SUMMARIZE AND TRANSLATE(IFF NEWS IS TRUE)."
   ]
  },
  {
   "cell_type": "code",
   "execution_count": 90,
   "id": "32e7b2bd",
   "metadata": {
    "scrolled": true
   },
   "outputs": [
    {
     "name": "stdout",
     "output_type": "stream",
     "text": [
      "RESULT:  TRUE NEWS\n",
      "RESULT:  TRUE NEWS\n",
      "Main Flag is:  1\n",
      "Summarized Successfully with length:  744\n"
     ]
    },
    {
     "name": "stderr",
     "output_type": "stream",
     "text": [
      "C:\\Users\\HP\\anaconda3\\lib\\tkinter\\__init__.py:1892: ResourceWarning: unclosed <ssl.SSLSocket fd=6104, family=AddressFamily.AF_INET, type=SocketKind.SOCK_STREAM, proto=0, laddr=('192.168.0.104', 63801), raddr=('142.250.192.110', 443)>\n",
      "  return self.func(*args)\n",
      "ResourceWarning: Enable tracemalloc to get the object allocation traceback\n",
      "C:\\Users\\HP\\anaconda3\\lib\\tkinter\\__init__.py:1892: ResourceWarning: unclosed <ssl.SSLSocket fd=6060, family=AddressFamily.AF_INET, type=SocketKind.SOCK_STREAM, proto=0, laddr=('192.168.0.104', 63807), raddr=('142.250.192.110', 443)>\n",
      "  return self.func(*args)\n",
      "ResourceWarning: Enable tracemalloc to get the object allocation traceback\n",
      "C:\\Users\\HP\\anaconda3\\lib\\tkinter\\__init__.py:1892: ResourceWarning: unclosed <ssl.SSLSocket fd=5996, family=AddressFamily.AF_INET, type=SocketKind.SOCK_STREAM, proto=0, laddr=('192.168.0.104', 63810), raddr=('142.250.192.110', 443)>\n",
      "  return self.func(*args)\n",
      "ResourceWarning: Enable tracemalloc to get the object allocation traceback\n"
     ]
    },
    {
     "name": "stdout",
     "output_type": "stream",
     "text": [
      "RESULT:  FAKE NEWS\n",
      "RESULT:  FAKE NEWS\n",
      "Main Flag is:  0\n"
     ]
    },
    {
     "name": "stderr",
     "output_type": "stream",
     "text": [
      "C:\\Users\\HP\\anaconda3\\lib\\tkinter\\__init__.py:1892: ResourceWarning: unclosed <ssl.SSLSocket fd=6072, family=AddressFamily.AF_INET, type=SocketKind.SOCK_STREAM, proto=0, laddr=('192.168.0.104', 63812), raddr=('142.250.192.110', 443)>\n",
      "  return self.func(*args)\n",
      "ResourceWarning: Enable tracemalloc to get the object allocation traceback\n"
     ]
    },
    {
     "name": "stdout",
     "output_type": "stream",
     "text": [
      "RESULT:  TRUE NEWS\n",
      "RESULT:  TRUE NEWS\n",
      "Main Flag is:  1\n",
      "Summarized Successfully with length:  4133\n"
     ]
    },
    {
     "name": "stderr",
     "output_type": "stream",
     "text": [
      "C:\\Users\\HP\\anaconda3\\lib\\tkinter\\__init__.py:1892: ResourceWarning: unclosed <ssl.SSLSocket fd=6104, family=AddressFamily.AF_INET, type=SocketKind.SOCK_STREAM, proto=0, laddr=('192.168.0.104', 63827), raddr=('142.250.192.110', 443)>\n",
      "  return self.func(*args)\n",
      "ResourceWarning: Enable tracemalloc to get the object allocation traceback\n"
     ]
    }
   ],
   "source": [
    "import tkinter as tk\n",
    "from tkinter import ttk\n",
    "from tkinter import *\n",
    "import spacy\n",
    "from spacy.lang.en.stop_words import STOP_WORDS\n",
    "from string import punctuation\n",
    "from googletrans import Translator, LANGUAGES\n",
    "\n",
    "def text_summarize(text):\n",
    "    stopwords = list(STOP_WORDS)\n",
    "    nlp = spacy.load('en_core_web_sm')\n",
    "    doc = nlp(text)\n",
    "\n",
    "    tokens = [token.text for token in doc]\n",
    "    #print(tokens)\n",
    "\n",
    "\n",
    "    word_frequencies = {}\n",
    "    for word in doc:\n",
    "        if word.text.lower() not in stopwords:\n",
    "            if word.text.lower() not in punctuation:\n",
    "                if word.text not in word_frequencies.keys():\n",
    "                    word_frequencies[word.text]=1\n",
    "                else:\n",
    "                    word_frequencies[word.text]+=1\n",
    "    #print(word_frequencies)\n",
    "    max_frequency = max(word_frequencies.values())\n",
    "    #print(max_frequency)\n",
    "\n",
    "    for word in word_frequencies.keys():\n",
    "        word_frequencies[word] = word_frequencies[word]/max_frequency\n",
    "    #print(word_frequencies)\n",
    "\n",
    "    sentence_tokens = [sent for sent in doc.sents]\n",
    "    #print(sentence_tokens)\n",
    "\n",
    "    sentence_scores = {}\n",
    "    for sent in sentence_tokens:\n",
    "        for word in sent:\n",
    "            if word.text.lower() in word_frequencies.keys():\n",
    "                if sent not in sentence_scores.keys():\n",
    "                    sentence_scores[sent] = word_frequencies[word.text.lower()]\n",
    "                else:\n",
    "                    sentence_scores[sent] += word_frequencies[word.text.lower()]\n",
    "    #print(sentence_scores)\n",
    "\n",
    "    from heapq import nlargest\n",
    "    select_length = int(len(sentence_tokens))\n",
    "    #print(select_length)\n",
    "\n",
    "    summary = nlargest(select_length,sentence_scores,key=sentence_scores.get)\n",
    "    #print(summary)\n",
    "\n",
    "    final_summary = [word.text for word in summary]\n",
    "    summary = ' '.join(final_summary)\n",
    "    return summary\n",
    "    #print(summary)\n",
    "\n",
    "def detect_button_click():\n",
    "    global ot\n",
    "    global s_text\n",
    "    global g_flag\n",
    "    ot = Output_text.get(\"1.0\", \"end-1c\")\n",
    "    main_flag = testing(ot)\n",
    "    print(\"Main Flag is: \",main_flag)\n",
    "    try:\n",
    "        if main_flag==0:\n",
    "            true_button.config(bg=\"white\")\n",
    "            fake_button.config(bg=\"red\")\n",
    "            g_flag=0\n",
    "        elif main_flag==1:\n",
    "            true_button.config(bg=\"green\")\n",
    "            fake_button.config(bg=\"white\")\n",
    "            s_text = text_summarize(ot)\n",
    "            print(\"Summarized Successfully with length: \",len(s_text))\n",
    "            g_flag=1\n",
    "        else:\n",
    "            true_button.config(bg=\"white\")\n",
    "            fake_button.config(bg=\"white\")\n",
    "    except ValueError:\n",
    "        true_button.config(bg=\"white\")\n",
    "        fake_button.config(bg=\"white\")\n",
    "        \n",
    "def getTranslated():\n",
    "    translator = Translator()\n",
    "    translated = translator.translate(text=s_text, dest=dest_lang.get())\n",
    "    #print(\"TRANSLATED TEXT IS: \",translated.text)\n",
    "    Output_Translated_text.delete(1.0,END)\n",
    "    if g_flag==0:\n",
    "        Output_Translated_text.delete(1.0, END)  # Clear any existing text\n",
    "        Output_Translated_text.insert(END, \"SORRY, TRANSLATION OF FAKE NEWS IS NOT ALLOWED.\")\n",
    "        Output_Translated_text.tag_add(\"red\", 1.0, END)\n",
    "        Output_Translated_text.tag_configure(\"red\", foreground=\"red\")\n",
    "    else:\n",
    "        Output_Translated_text.insert(END,translated.text)\n",
    "\n",
    "    \n",
    "punctuation = punctuation + '\\n'\n",
    "language = list(LANGUAGES.values())\n",
    "\n",
    "\n",
    "\n",
    "root = tk.Tk()\n",
    "screen_width = root.winfo_screenwidth()\n",
    "screen_height = root.winfo_screenheight()\n",
    "root.geometry(f\"{screen_width}x{screen_height}\")\n",
    "Label(root,text=\"F6's FAKE NEWS DETECTOR\",font=\"arial 20 bold\",bg=\"#9acd32\").pack()\n",
    "label_text = \"Enter the NEWS: \"\n",
    "label_width = len(label_text) * 10  # Adjust as needed for the desired label width\n",
    "x_coordinate = (screen_width - label_width) // 2\n",
    "root.iconbitmap(r\"C:\\Users\\HP\\OneDrive\\Documents\\MyPic_Green Cropped.ico\")\n",
    "root['bg']=\"#ff4f4b\"\n",
    "root.title(\"F6's FAKE NEWS DETECTOR\")\n",
    "root.resizable(100,100)\n",
    "\n",
    "Label(root, text=\"Enter the NEWS: \",font=\"arial 13 bold\", bg=\"yellow\").place(x=x_coordinate,y=70)\n",
    "\n",
    "Output_text = Text(root,font=\"arial 10\", height=11,wrap=WORD,padx=5, pady=5,width=100,bg=\"white smoke\")\n",
    "Output_text.place(x=x_coordinate-280,y=110)\n",
    "\n",
    "\n",
    "Label(root, text=\"SUMMARIZED AND TRANSLATED TEXT: \",font=\"arial 13 bold\", bg=\"yellow\").place(x=x_coordinate-84,y=570)\n",
    "\n",
    "Output_Translated_text = Text(root,font=\"arial 10\", height=11,wrap=WORD,padx=5, pady=5,width=100,bg=\"white smoke\")\n",
    "Output_Translated_text.place(x=x_coordinate-280,y=610)\n",
    "\n",
    "\n",
    "detect_button = tk.Button(root, text=\"DETECT\", bg=\"yellow\",command=lambda: detect_button_click(),width=20,height=4,font=(\"Arial\", 10, \"bold\"))\n",
    "detect_button.place(x=x_coordinate+5, y=330)\n",
    "txt = Output_text.get(\"1.0\",\"end-1c\")\n",
    "\n",
    "#Creating Style object to apply colors to Combobox\n",
    "style= ttk.Style()\n",
    "style.theme_use('clam')\n",
    "style.configure(\"TCombobox\", fieldbackground= \"yellow\", background= \"orange\")\n",
    "\n",
    "#Creating combobox\n",
    "dest_lang = ttk.Combobox(root,values=language,width=60)\n",
    "dest_lang.place(x=x_coordinate+450,y=610)\n",
    "dest_lang.set(\"Choose Language\")\n",
    "\n",
    "tran = tk.Button(root, text=\"SUMMARIZE AND TRANSLATE\",bg=\"black\",command=getTranslated,width=26,fg=\"white\", font=(\"Arial\", 12, \"bold\"))\n",
    "tran.place(x=x_coordinate -60, y=520)\n",
    "\n",
    "true_button = tk.Button(root, text=\"TRUE\", width=8, height=2,command=getTranslated, bg=\"#ffd580\", fg=\"white\", font=(\"Arial\", 12, \"bold\"))\n",
    "true_button.place(x=x_coordinate - 60, y=440)\n",
    "\n",
    "fake_button = tk.Button(root, text=\"FAKE\", width=8, height=2, bg=\"#ffd580\", fg=\"white\", font=(\"Arial\", 12, \"bold\"))\n",
    "fake_button.place(x=x_coordinate + 135, y=440)\n",
    "\n",
    "\n",
    "root.mainloop()"
   ]
  },
  {
   "cell_type": "code",
   "execution_count": null,
   "id": "aa191c3e",
   "metadata": {},
   "outputs": [],
   "source": []
  }
 ],
 "metadata": {
  "kernelspec": {
   "display_name": "Python 3 (ipykernel)",
   "language": "python",
   "name": "python3"
  },
  "language_info": {
   "codemirror_mode": {
    "name": "ipython",
    "version": 3
   },
   "file_extension": ".py",
   "mimetype": "text/x-python",
   "name": "python",
   "nbconvert_exporter": "python",
   "pygments_lexer": "ipython3",
   "version": "3.9.13"
  }
 },
 "nbformat": 4,
 "nbformat_minor": 5
}
